{
 "cells": [
  {
   "cell_type": "markdown",
   "metadata": {},
   "source": [
    "# Patches and transforms\n",
    "\n",
    "@TO 2020-10-21"
   ]
  },
  {
   "cell_type": "code",
   "execution_count": 1,
   "metadata": {},
   "outputs": [],
   "source": [
    "import numpy as np\n",
    "import matplotlib.pyplot as plt\n",
    "import matplotlib.path as path\n",
    "import matplotlib.patches as patches\n",
    "import pdb"
   ]
  },
  {
   "cell_type": "code",
   "execution_count": 7,
   "metadata": {},
   "outputs": [
    {
     "name": "stdout",
     "output_type": "stream",
     "text": [
      "\n",
      "\n",
      "\n",
      "Before adding patch to axes:\n",
      "[[0. 0.]\n",
      " [1. 0.]\n",
      " [1. 1.]\n",
      " [0. 1.]\n",
      " [0. 0.]]\n",
      "True\n",
      "True\n",
      "[[0.8 0.  0.2]\n",
      " [0.  0.5 0.3]\n",
      " [0.  0.  1. ]]\n",
      "Hiet is tf:\n",
      "CompositeGenericTransform(\n",
      "    BboxTransformTo(\n",
      "        Bbox(x0=0.2, y0=0.3, x1=1.0, y1=0.8)),\n",
      "    Affine2D(\n",
      "        [[1. 0. 0.]\n",
      "         [0. 1. 0.]\n",
      "         [0. 0. 1.]]))\n",
      "After adding patch to axes\n",
      "[[0. 0.]\n",
      " [1. 0.]\n",
      " [1. 1.]\n",
      " [0. 1.]\n",
      " [0. 0.]]\n",
      "False\n",
      "True\n",
      "[[0.8 0.  0.2]\n",
      " [0.  0.5 0.3]\n",
      " [0.  0.  1. ]]\n",
      "Hiet is tf:\n",
      "CompositeGenericTransform(\n",
      "    BboxTransformTo(\n",
      "        Bbox(x0=0.2, y0=0.3, x1=1.0, y1=0.8)),\n",
      "    Affine2D(\n",
      "        [[1. 0. 0.]\n",
      "         [0. 1. 0.]\n",
      "         [0. 0. 1.]]))\n",
      "Verts: \n",
      " [[0. 0.]\n",
      " [1. 0.]\n",
      " [1. 1.]\n",
      " [0. 1.]\n",
      " [0. 0.]]\n",
      "Points: \n",
      " [[0.2 0.3]\n",
      " [1.  0.3]\n",
      " [1.  0.8]\n",
      " [0.2 0.8]\n",
      " [0.2 0.3]]\n"
     ]
    },
    {
     "data": {
      "text/plain": [
       "<matplotlib.transforms.CompositeGenericTransform at 0x7fc66c4f16d0>"
      ]
     },
     "execution_count": 7,
     "metadata": {},
     "output_type": "execute_result"
    },
    {
     "data": {
      "image/png": "[encoded data removed]",
      "text/plain": [
       "<Figure size 432x288 with 1 Axes>"
      ]
     },
     "metadata": {
      "needs_background": "light"
     },
     "output_type": "display_data"
    }
   ],
   "source": [
    "p = path.Path([[0.2, 0.3], [1.0, 0.3], [1.0, 0.8], [0.2, 0.8]])\n",
    "\n",
    "fig, ax = plt.subplots()\n",
    "rect = patches.Rectangle([0.2, 0.3], 0.8, 0.5)\n",
    "#rect = patches.PathPatch(p)\n",
    "\n",
    "pnt = [0.4, 0.45] # point inside rect\n",
    "ax.plot(*pnt, 'ro')\n",
    "print(\"\\n\\n\\nBefore adding patch to axes:\")\n",
    "print(rect.get_path().vertices)\n",
    "print(rect.contains_point(pnt))\n",
    "print(rect.get_path().contains_point(pnt))\n",
    "print(rect.get_patch_transform().get_matrix())\n",
    "print(\"Hiet is tf:\")\n",
    "tf = rect.get_patch_transform()\n",
    "print(tf)\n",
    "\n",
    "print(\"After adding patch to axes\")\n",
    "ax.add_patch(rect)\n",
    "print(rect.get_path().vertices)\n",
    "print(rect.contains_point(pnt))\n",
    "print(rect.get_path().contains_point(pnt))\n",
    "print(rect.get_patch_transform().get_matrix())\n",
    "print(\"Hiet is tf:\")\n",
    "tf = rect.get_patch_transform()\n",
    "print(tf)\n",
    "\n",
    "verts = rect.get_path().vertices\n",
    "print(\"Verts: \\n\", verts)\n",
    "points = rect.get_patch_transform().transform(verts)\n",
    "print(\"Points: \\n\", points)\n",
    "rect.get_patch_transform()\n"
   ]
  },
  {
   "cell_type": "code",
   "execution_count": null,
   "metadata": {},
   "outputs": [],
   "source": [
    "rect.get_patch_transform"
   ]
  }
 ],
 "metadata": {
  "kernelspec": {
   "display_name": "Python 3",
   "language": "python",
   "name": "python3"
  },
  "language_info": {
   "codemirror_mode": {
    "name": "ipython",
    "version": 3
   },
   "file_extension": ".py",
   "mimetype": "text/x-python",
   "name": "python",
   "nbconvert_exporter": "python",
   "pygments_lexer": "ipython3",
   "version": "3.7.5"
  }
 },
 "nbformat": 4,
 "nbformat_minor": 4
}
